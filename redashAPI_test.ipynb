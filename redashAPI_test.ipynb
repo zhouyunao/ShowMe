{
 "cells": [
  {
   "cell_type": "code",
   "execution_count": 1,
   "metadata": {},
   "outputs": [
    {
     "name": "stdout",
     "output_type": "stream",
     "text": [
      "Collecting redash-dynamic-query\n",
      "  Downloading redash-dynamic-query-1.0.1.tar.gz\n",
      "Requirement already satisfied: requests in /home/zhou/.pyenv/versions/3.6.3/envs/scraping/lib/python3.6/site-packages (from redash-dynamic-query)\n",
      "Collecting pystache (from redash-dynamic-query)\n",
      "  Downloading pystache-0.5.4.tar.gz (75kB)\n",
      "\u001b[K    100% |████████████████████████████████| 81kB 2.6MB/s ta 0:00:01\n",
      "\u001b[?25hRequirement already satisfied: urllib3<1.23,>=1.21.1 in /home/zhou/.pyenv/versions/3.6.3/envs/scraping/lib/python3.6/site-packages (from requests->redash-dynamic-query)\n",
      "Requirement already satisfied: chardet<3.1.0,>=3.0.2 in /home/zhou/.pyenv/versions/3.6.3/envs/scraping/lib/python3.6/site-packages (from requests->redash-dynamic-query)\n",
      "Requirement already satisfied: idna<2.7,>=2.5 in /home/zhou/.pyenv/versions/3.6.3/envs/scraping/lib/python3.6/site-packages (from requests->redash-dynamic-query)\n",
      "Requirement already satisfied: certifi>=2017.4.17 in /home/zhou/.pyenv/versions/3.6.3/envs/scraping/lib/python3.6/site-packages (from requests->redash-dynamic-query)\n",
      "Installing collected packages: pystache, redash-dynamic-query\n",
      "  Running setup.py install for pystache ... \u001b[?25ldone\n",
      "\u001b[?25h  Running setup.py install for redash-dynamic-query ... \u001b[?25ldone\n",
      "\u001b[?25hSuccessfully installed pystache-0.5.4 redash-dynamic-query-1.0.1\n"
     ]
    }
   ],
   "source": [
    "!pip install redash-dynamic-query"
   ]
  },
  {
   "cell_type": "code",
   "execution_count": 2,
   "metadata": {},
   "outputs": [],
   "source": [
    "from redash_dynamic_query import RedashDynamicQuery as RDQ\n",
    "import pandas as pd\n",
    "import json\n"
   ]
  },
  {
   "cell_type": "code",
   "execution_count": 6,
   "metadata": {},
   "outputs": [
    {
     "ename": "Exception",
     "evalue": "api_queries. [404]",
     "output_type": "error",
     "traceback": [
      "\u001b[0;31m--------------------------------------------------------------------------\u001b[0m",
      "\u001b[0;31mException\u001b[0m                                Traceback (most recent call last)",
      "\u001b[0;32m<ipython-input-6-8abe7b8e42c9>\u001b[0m in \u001b[0;36m<module>\u001b[0;34m()\u001b[0m\n\u001b[1;32m     10\u001b[0m     \u001b[0;34m\"end_date\"\u001b[0m\u001b[0;34m:\u001b[0m  \u001b[0;34m'2017-01-01T23:59:59'\u001b[0m\u001b[0;34m,\u001b[0m\u001b[0;34m\u001b[0m\u001b[0m\n\u001b[1;32m     11\u001b[0m }\n\u001b[0;32m---> 12\u001b[0;31m \u001b[0mresult\u001b[0m \u001b[0;34m=\u001b[0m \u001b[0mredash\u001b[0m\u001b[0;34m.\u001b[0m\u001b[0mquery\u001b[0m\u001b[0;34m(\u001b[0m\u001b[0mquery_id\u001b[0m\u001b[0;34m,\u001b[0m \u001b[0mbind\u001b[0m\u001b[0;34m)\u001b[0m\u001b[0;34m\u001b[0m\u001b[0m\n\u001b[0m\u001b[1;32m     13\u001b[0m \u001b[0mprint\u001b[0m \u001b[0;34m(\u001b[0m\u001b[0mresult\u001b[0m\u001b[0;34m[\u001b[0m\u001b[0;34m'query_result'\u001b[0m\u001b[0;34m]\u001b[0m\u001b[0;34m[\u001b[0m\u001b[0;34m'data'\u001b[0m\u001b[0;34m]\u001b[0m\u001b[0;34m)\u001b[0m\u001b[0;34m\u001b[0m\u001b[0m\n",
      "\u001b[0;32m~/.pyenv/versions/3.6.3/envs/scraping/lib/python3.6/site-packages/redash_dynamic_query/__init__.py\u001b[0m in \u001b[0;36mquery\u001b[0;34m(self, query_id, bind, as_csv)\u001b[0m\n\u001b[1;32m     18\u001b[0m \u001b[0;34m\u001b[0m\u001b[0m\n\u001b[1;32m     19\u001b[0m         \u001b[0;31m# get query body\u001b[0m\u001b[0;34m\u001b[0m\u001b[0;34m\u001b[0m\u001b[0m\n\u001b[0;32m---> 20\u001b[0;31m         \u001b[0mquery_body\u001b[0m \u001b[0;34m=\u001b[0m \u001b[0mself\u001b[0m\u001b[0;34m.\u001b[0m\u001b[0m_api_queries\u001b[0m\u001b[0;34m(\u001b[0m\u001b[0mquery_id\u001b[0m\u001b[0;34m)\u001b[0m\u001b[0;34m[\u001b[0m\u001b[0;34m'query'\u001b[0m\u001b[0;34m]\u001b[0m\u001b[0;34m\u001b[0m\u001b[0m\n\u001b[0m\u001b[1;32m     21\u001b[0m \u001b[0;34m\u001b[0m\u001b[0m\n\u001b[1;32m     22\u001b[0m         \u001b[0;31m# bind params to query body\u001b[0m\u001b[0;34m\u001b[0m\u001b[0;34m\u001b[0m\u001b[0m\n",
      "\u001b[0;32m~/.pyenv/versions/3.6.3/envs/scraping/lib/python3.6/site-packages/redash_dynamic_query/__init__.py\u001b[0m in \u001b[0;36m_api_queries\u001b[0;34m(self, query_id)\u001b[0m\n\u001b[1;32m     75\u001b[0m         )\n\u001b[1;32m     76\u001b[0m         \u001b[0;32mif\u001b[0m \u001b[0mresponse\u001b[0m\u001b[0;34m.\u001b[0m\u001b[0mstatus_code\u001b[0m \u001b[0;34m!=\u001b[0m \u001b[0;36m200\u001b[0m\u001b[0;34m:\u001b[0m\u001b[0;34m\u001b[0m\u001b[0m\n\u001b[0;32m---> 77\u001b[0;31m             \u001b[0;32mraise\u001b[0m \u001b[0mException\u001b[0m\u001b[0;34m(\u001b[0m\u001b[0;34m'api_queries. [%d]'\u001b[0m \u001b[0;34m%\u001b[0m \u001b[0mresponse\u001b[0m\u001b[0;34m.\u001b[0m\u001b[0mstatus_code\u001b[0m\u001b[0;34m)\u001b[0m\u001b[0;34m\u001b[0m\u001b[0m\n\u001b[0m\u001b[1;32m     78\u001b[0m \u001b[0;34m\u001b[0m\u001b[0m\n\u001b[1;32m     79\u001b[0m         \u001b[0;32mreturn\u001b[0m \u001b[0mresponse\u001b[0m\u001b[0;34m.\u001b[0m\u001b[0mjson\u001b[0m\u001b[0;34m(\u001b[0m\u001b[0;34m)\u001b[0m\u001b[0;34m\u001b[0m\u001b[0m\n",
      "\u001b[0;31mException\u001b[0m: api_queries. [404]"
     ]
    }
   ],
   "source": [
    "redash = RDQ(\n",
    "    endpoint='http://13.58.177.55',\n",
    "    apikey='w4YJYlfnJm3kmKor5LVU1sq0BtPCALq30pdQCaxL',\n",
    "    data_source_id=2\n",
    ")\n",
    "\n",
    "query_id = 111\n",
    "bind = {\n",
    "    \"start_date\":  '2017-01-01T00:00:00',\n",
    "    \"end_date\":  '2017-01-01T23:59:59',\n",
    "}\n",
    "result = redash.query(query_id, bind)\n",
    "print (result['query_result']['data'])"
   ]
  }
 ],
 "metadata": {
  "kernelspec": {
   "display_name": "Python 3",
   "language": "python",
   "name": "python3"
  },
  "language_info": {
   "codemirror_mode": {
    "name": "ipython",
    "version": 3
   },
   "file_extension": ".py",
   "mimetype": "text/x-python",
   "name": "python",
   "nbconvert_exporter": "python",
   "pygments_lexer": "ipython3",
   "version": "3.6.3"
  }
 },
 "nbformat": 4,
 "nbformat_minor": 2
}
