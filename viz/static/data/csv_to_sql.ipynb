{
 "cells": [
  {
   "cell_type": "code",
   "execution_count": 19,
   "metadata": {},
   "outputs": [],
   "source": [
    "import sqlite3"
   ]
  },
  {
   "cell_type": "code",
   "execution_count": 20,
   "metadata": {},
   "outputs": [],
   "source": [
    "import pandas as pd\n",
    "import csv\n",
    "import pandas.io.sql as psql"
   ]
  },
  {
   "cell_type": "code",
   "execution_count": 21,
   "metadata": {},
   "outputs": [],
   "source": [
    "dbname = '2017.db'\n",
    "conn = sqlite3.connect(dbname)\n",
    "cur = conn.cursor()\n",
    "\n",
    "# cur.execute(\"\"\" CREATE TABLE Schedule_E  (日時 text, text曜日,対戦相手 text, playground text,start text,audience int,result text,\n",
    "# get int,lost int,ab int,hit int, hr int,steal int,error int,offense int,inning int,hitted int,hred int,\n",
    "# walkHBP int,ER int,HA int,cardNo int,ND int,Bye int)\"\"\")\n",
    "\n"
   ]
  },
  {
   "cell_type": "code",
   "execution_count": 10,
   "metadata": {},
   "outputs": [
    {
     "data": {
      "text/plain": [
       "<sqlite3.Cursor at 0x7f711f9392d0>"
      ]
     },
     "execution_count": 10,
     "metadata": {},
     "output_type": "execute_result"
    }
   ],
   "source": [
    "cur.execute(\"\"\" CREATE TABLE Schedule_E  (日時 text,曜日 text,相手 text, 球場 text,開始 text,観衆 int,勝敗 text,\n",
    "得 int,失 int,打数 int,安打 int,本塁 int,盗塁 int,失策 int,攻撃 int,回数 int,被安 int,被本 int,\n",
    "四死球 int,自責 int,HA int,カ int,ナ int,サ int)\"\"\")\n",
    "\n",
    "cur.execute(\"\"\" CREATE TABLE Schedule_Bs  (日時 text,曜日 text,相手 text, 球場 text,開始 text,観衆 int,勝敗 text,\n",
    "得 int,失 int,打数 int,安打 int,本塁 int,盗塁 int,失策 int,攻撃 int,回数 int,被安 int,被本 int,\n",
    "四死球 int,自責 int,HA int,カ int,ナ int,サ int)\"\"\")\n",
    "\n",
    "cur.execute(\"\"\" CREATE TABLE Schedule_C  (日時 text,曜日 text,相手 text, 球場 text,開始 text,観衆 int,勝敗 text,\n",
    "得 int,失 int,打数 int,安打 int,本塁 int,盗塁 int,失策 int,攻撃 int,回数 int,被安 int,被本 int,\n",
    "四死球 int,自責 int,HA int,カ int,ナ int,サ int)\"\"\")\n",
    "\n",
    "cur.execute(\"\"\" CREATE TABLE Schedule_D  (日時 text,曜日 text,相手 text, 球場 text,開始 text,観衆 int,勝敗 text,\n",
    "得 int,失 int,打数 int,安打 int,本塁 int,盗塁 int,失策 int,攻撃 int,回数 int,被安 int,被本 int,\n",
    "四死球 int,自責 int,HA int,カ int,ナ int,サ int)\"\"\")\n",
    "\n",
    "cur.execute(\"\"\" CREATE TABLE Schedule_DB  (日時 text,曜日 text,相手 text, 球場 text,開始 text,観衆 int,勝敗 text,\n",
    "得 int,失 int,打数 int,安打 int,本塁 int,盗塁 int,失策 int,攻撃 int,回数 int,被安 int,被本 int,\n",
    "四死球 int,自責 int,HA int,カ int,ナ int,サ int)\"\"\")\n",
    "\n",
    "cur.execute(\"\"\" CREATE TABLE Schedule_F  (日時 text,曜日 text,相手 text, 球場 text,開始 text,観衆 int,勝敗 text,\n",
    "得 int,失 int,打数 int,安打 int,本塁 int,盗塁 int,失策 int,攻撃 int,回数 int,被安 int,被本 int,\n",
    "四死球 int,自責 int,HA int,カ int,ナ int,サ int)\"\"\")\n",
    "\n",
    "cur.execute(\"\"\" CREATE TABLE Schedule_G  (日時 text,曜日 text,相手 text, 球場 text,開始 text,観衆 int,勝敗 text,\n",
    "得 int,失 int,打数 int,安打 int,本塁 int,盗塁 int,失策 int,攻撃 int,回数 int,被安 int,被本 int,\n",
    "四死球 int,自責 int,HA int,カ int,ナ int,サ int)\"\"\")\n",
    "\n",
    "cur.execute(\"\"\" CREATE TABLE Schedule_H  (日時 text,曜日 text,相手 text, 球場 text,開始 text,観衆 int,勝敗 text,\n",
    "得 int,失 int,打数 int,安打 int,本塁 int,盗塁 int,失策 int,攻撃 int,回数 int,被安 int,被本 int,\n",
    "四死球 int,自責 int,HA int,カ int,ナ int,サ int)\"\"\")\n",
    "\n",
    "cur.execute(\"\"\" CREATE TABLE Schedule_L  (日時 text,曜日 text,相手 text, 球場 text,開始 text,観衆 int,勝敗 text,\n",
    "得 int,失 int,打数 int,安打 int,本塁 int,盗塁 int,失策 int,攻撃 int,回数 int,被安 int,被本 int,\n",
    "四死球 int,自責 int,HA int,カ int,ナ int,サ int)\"\"\")\n",
    "\n",
    "cur.execute(\"\"\" CREATE TABLE Schedule_M  (日時 text,曜日 text,相手 text, 球場 text,開始 text,観衆 int,勝敗 text,\n",
    "得 int,失 int,打数 int,安打 int,本塁 int,盗塁 int,失策 int,攻撃 int,回数 int,被安 int,被本 int,\n",
    "四死球 int,自責 int,HA int,カ int,ナ int,サ int)\"\"\")\n",
    "\n",
    "cur.execute(\"\"\" CREATE TABLE Schedule_T  (日時 text,曜日 text,相手 text, 球場 text,開始 text,観衆 int,勝敗 text,\n",
    "得 int,失 int,打数 int,安打 int,本塁 int,盗塁 int,失策 int,攻撃 int,回数 int,被安 int,被本 int,\n",
    "四死球 int,自責 int,HA int,カ int,ナ int,サ int)\"\"\")\n",
    "\n",
    "cur.execute(\"\"\" CREATE TABLE Schedule_Ys  (日時 text,曜日 text,相手 text, 球場 text,開始 text,観衆 int,勝敗 text,\n",
    "得 int,失 int,打数 int,安打 int,本塁 int,盗塁 int,失策 int,攻撃 int,回数 int,被安 int,被本 int,\n",
    "四死球 int,自責 int,HA int,カ int,ナ int,サ int)\"\"\")"
   ]
  },
  {
   "cell_type": "code",
   "execution_count": 11,
   "metadata": {},
   "outputs": [],
   "source": [
    "import glob"
   ]
  },
  {
   "cell_type": "code",
   "execution_count": 16,
   "metadata": {},
   "outputs": [
    {
     "name": "stdout",
     "output_type": "stream",
     "text": [
      "Schedule_Bs_2017\n",
      "Schedule_C_2017\n",
      "Schedule_DB_2017\n",
      "Schedule_D_2017\n",
      "Schedule_F_2017\n",
      "Schedule_G_2017\n",
      "Schedule_H_2017\n",
      "Schedule_L_2017\n",
      "Schedule_M_2017\n",
      "Schedule_T_2017\n",
      "Schedule_Ys_2017\n"
     ]
    }
   ],
   "source": [
    "file_list = glob.glob('data_2017/*.csv')\n",
    "# for fn in file_list:\n",
    "#     print(fn[10:-4])"
   ]
  },
  {
   "cell_type": "code",
   "execution_count": 18,
   "metadata": {},
   "outputs": [],
   "source": [
    "for filename in file_list:\n",
    "    df = pd.read_csv(filename,encoding='shift_jis')\n",
    "    name = filename[10:-9]\n",
    "    df.to_sql(name,conn,if_exists='append',index=None)"
   ]
  },
  {
   "cell_type": "code",
   "execution_count": 30,
   "metadata": {
    "scrolled": true
   },
   "outputs": [
    {
     "data": {
      "text/plain": [
       "<sqlite3.Cursor at 0x7f711f939a40>"
      ]
     },
     "execution_count": 30,
     "metadata": {},
     "output_type": "execute_result"
    }
   ],
   "source": [
    "# 1回 数字はダメっぽい``を付けました。\n",
    "cur.execute(\"\"\" CREATE TABLE score_all (FLG text,日付 text,TM text,`1回` int,`2回` int,`3回` int,`4回` int,`5回` int,`6回` int,`7回` int,`8回` int,`9回` int,`10回` int,`11回` int,`12回` int,計 int,安 int,失 int)\"\"\")"
   ]
  },
  {
   "cell_type": "code",
   "execution_count": 31,
   "metadata": {},
   "outputs": [
    {
     "data": {
      "text/plain": [
       "<sqlite3.Cursor at 0x7f711f939a40>"
      ]
     },
     "execution_count": 31,
     "metadata": {},
     "output_type": "execute_result"
    }
   ],
   "source": [
    "cur.execute(\"\"\" CREATE TABLE batting_by_pitch (日付 text,球場 text,自TM text,打者 text,席 text,結果 text,相手TM text,投手 text,腕 text)\"\"\")"
   ]
  },
  {
   "cell_type": "code",
   "execution_count": 35,
   "metadata": {},
   "outputs": [],
   "source": [
    "df1 = pd.read_csv('data_2017/score_all_2017.csv',encoding='shift_jis')\n",
    "df1.to_sql('score_all',conn,if_exists='append',index=None)"
   ]
  },
  {
   "cell_type": "code",
   "execution_count": 37,
   "metadata": {},
   "outputs": [],
   "source": [
    "# UnicodeDecodeError: 'shift_jis' codec can't decode byte 0xfb in position 0: illegal multibyte sequence\n",
    "import codecs\n",
    "with codecs.open('data_2017/bt_all_by_pc_stat_all_2017.csv','rb','Shift_JIS','ignore') as file:\n",
    "    df = pd.read_table(file,delimiter=\",\")\n",
    "    df.to_sql('batting_by_pitch',conn,if_exists='append',index=None)"
   ]
  },
  {
   "cell_type": "code",
   "execution_count": 39,
   "metadata": {},
   "outputs": [],
   "source": [
    "with codecs.open('data_2017/fp_box_all_data_2017.csv','rb','Shift_JIS','ignore') as file:\n",
    "    df = pd.read_table(file,delimiter=\",\")\n",
    "    df.to_sql('full_play',conn,if_exists='append',index=None)"
   ]
  },
  {
   "cell_type": "code",
   "execution_count": 40,
   "metadata": {},
   "outputs": [],
   "source": [
    "with codecs.open('data_2017/bt_all_by_pc_stat_all_2017.csv','rb','Shift_JIS','ignore') as file:\n",
    "    df = pd.read_table(file,delimiter=\",\")\n",
    "    df.to_sql('batting_result',conn,if_exists='append',index=None)"
   ]
  }
 ],
 "metadata": {
  "kernelspec": {
   "display_name": "Python 3",
   "language": "python",
   "name": "python3"
  },
  "language_info": {
   "codemirror_mode": {
    "name": "ipython",
    "version": 3
   },
   "file_extension": ".py",
   "mimetype": "text/x-python",
   "name": "python",
   "nbconvert_exporter": "python",
   "pygments_lexer": "ipython3",
   "version": "3.6.3"
  }
 },
 "nbformat": 4,
 "nbformat_minor": 2
}
