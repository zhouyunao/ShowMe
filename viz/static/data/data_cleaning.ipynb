{
 "cells": [
  {
   "cell_type": "code",
   "execution_count": 1,
   "metadata": {},
   "outputs": [
    {
     "ename": "SyntaxError",
     "evalue": "unexpected EOF while parsing (<ipython-input-1-9493105369db>, line 8)",
     "output_type": "error",
     "traceback": [
      "\u001b[0;36m  File \u001b[0;32m\"<ipython-input-1-9493105369db>\"\u001b[0;36m, line \u001b[0;32m8\u001b[0m\n\u001b[0;31m    \u001b[0m\n\u001b[0m    ^\u001b[0m\n\u001b[0;31mSyntaxError\u001b[0m\u001b[0;31m:\u001b[0m unexpected EOF while parsing\n"
     ]
    }
   ],
   "source": [
    "import csv\n",
    "\n",
    "\n",
    "csvfile = open('Schedule_E_2017.csv','rb')\n",
    "lines = csvfile.readlines()\n",
    "for l in lines:\n",
    "#     print (l.decode('shift_jis'))\n",
    "        "
   ]
  },
  {
   "cell_type": "code",
   "execution_count": 2,
   "metadata": {},
   "outputs": [],
   "source": [
    "import pandas as pd\n",
    "\n",
    "df = pd.read_csv('Schedule_E_2017.csv',encoding='shift_jis')\n",
    "# df"
   ]
  },
  {
   "cell_type": "code",
   "execution_count": 3,
   "metadata": {},
   "outputs": [],
   "source": [
    "# df.info()"
   ]
  },
  {
   "cell_type": "code",
   "execution_count": 4,
   "metadata": {},
   "outputs": [],
   "source": [
    "grouped = df.groupby('球場')"
   ]
  },
  {
   "cell_type": "code",
   "execution_count": 5,
   "metadata": {},
   "outputs": [],
   "source": [
    "# Koboパーク宮城の行を選出    NaN削除\n",
    "home = df[df.球場=='Koboパーク宮城'].dropna(how='any')"
   ]
  },
  {
   "cell_type": "code",
   "execution_count": 6,
   "metadata": {},
   "outputs": [
    {
     "name": "stdout",
     "output_type": "stream",
     "text": [
      "Using matplotlib backend: TkAgg\n"
     ]
    }
   ],
   "source": [
    "%matplotlib\n",
    "import matplotlib\n",
    "import matplotlib.pyplot as plt\n",
    "import seaborn as sns\n",
    "# font = {'family': 'Rounded Mgen+ 1m medium'}\n",
    "# matplotlib.rc('font',**font)"
   ]
  },
  {
   "cell_type": "code",
   "execution_count": 7,
   "metadata": {
    "scrolled": true
   },
   "outputs": [],
   "source": [
    "import datetime as dt\n",
    "date = list()\n",
    "for d in list(home['日時']):\n",
    "#     temp = dt.datetime.strptime(d,'%m/%d')\n",
    "#     temp = temp.replace(year = 2017)\n",
    "    date.append(d)\n",
    "# date"
   ]
  },
  {
   "cell_type": "code",
   "execution_count": 8,
   "metadata": {
    "scrolled": false
   },
   "outputs": [],
   "source": [
    "# home"
   ]
  },
  {
   "cell_type": "code",
   "execution_count": 9,
   "metadata": {},
   "outputs": [],
   "source": [
    "import matplotlib.ticker as tick"
   ]
  },
  {
   "cell_type": "code",
   "execution_count": 10,
   "metadata": {},
   "outputs": [
    {
     "data": {
      "text/plain": [
       "'/home/zhou/.pyenv/versions/3.6.3/envs/scraping/lib/python3.6/site-packages/matplotlib/mpl-data/matplotlibrc'"
      ]
     },
     "execution_count": 10,
     "metadata": {},
     "output_type": "execute_result"
    }
   ],
   "source": [
    "matplotlib.matplotlib_fname()"
   ]
  },
  {
   "cell_type": "code",
   "execution_count": 11,
   "metadata": {},
   "outputs": [
    {
     "data": {
      "text/plain": [
       "Text(0.5,1,'Koboパーク客数')"
      ]
     },
     "execution_count": 11,
     "metadata": {},
     "output_type": "execute_result"
    }
   ],
   "source": [
    "# fig = plt.bar(date,home['観衆'],tick_label = date)\n",
    "from matplotlib.font_manager import FontProperties\n",
    "\n",
    "font_path = '/usr/local/share/fonts/rounded-mgenplus-1m-medium.ttf'\n",
    "font_prop = FontProperties(fname=font_path)\n",
    "matplotlib.rcParams['font.family'] = font_prop.get_name()\n",
    "\n",
    "index = [i for i in range(66)]\n",
    "plt.bar(index,home['観衆'],color=\"#FF5B70\")\n",
    "plt.xticks(index,date,rotation=90)\n",
    "plt.grid(color='gray',linestyle='--')\n",
    "plt.ylim([20000,28000])\n",
    "plt.title('Koboパーク客数')\n",
    "# plt.gca().yaxis.set_minor_locator(tick.MultipleLocator(10))\n",
    "# plt.tick_params(axis='y',which='minor',width = 0.5, length = 5)\n",
    "# plt.tick_params(width = 2, length = 10)\n",
    "# plt.subplots_adjust(hspace=0.7,bottom=0.2)\n",
    "# fig.xaxis.set_major_locator(matplotlib.mdates.AutoDateLocator)\n",
    "# fig.xaxis.set_major_formatter(matplotlib.mdates.DateFormatter('%m-%d'))"
   ]
  }
 ],
 "metadata": {
  "kernelspec": {
   "display_name": "Python 3",
   "language": "python",
   "name": "python3"
  },
  "language_info": {
   "codemirror_mode": {
    "name": "ipython",
    "version": 3
   },
   "file_extension": ".py",
   "mimetype": "text/x-python",
   "name": "python",
   "nbconvert_exporter": "python",
   "pygments_lexer": "ipython3",
   "version": "3.6.3"
  }
 },
 "nbformat": 4,
 "nbformat_minor": 2
}
